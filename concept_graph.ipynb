{
 "cells": [
  {
   "cell_type": "markdown",
   "metadata": {},
   "source": [
    "# Create Network Graph"
   ]
  },
  {
   "cell_type": "markdown",
   "metadata": {},
   "source": [
    "Basic setup"
   ]
  },
  {
   "cell_type": "code",
   "execution_count": 24,
   "metadata": {},
   "outputs": [],
   "source": [
    "import pandas as pd\n",
    "import numpy as np\n",
    "from pyvis.network import Network\n",
    "import networkx as nx\n",
    "import seaborn as sns\n"
   ]
  },
  {
   "cell_type": "markdown",
   "metadata": {},
   "source": [
    "Loading previously calculated dataframes"
   ]
  },
  {
   "cell_type": "code",
   "execution_count": 25,
   "metadata": {},
   "outputs": [
    {
     "data": {
      "text/html": [
       "<div>\n",
       "<style scoped>\n",
       "    .dataframe tbody tr th:only-of-type {\n",
       "        vertical-align: middle;\n",
       "    }\n",
       "\n",
       "    .dataframe tbody tr th {\n",
       "        vertical-align: top;\n",
       "    }\n",
       "\n",
       "    .dataframe thead th {\n",
       "        text-align: right;\n",
       "    }\n",
       "</style>\n",
       "<table border=\"1\" class=\"dataframe\">\n",
       "  <thead>\n",
       "    <tr style=\"text-align: right;\">\n",
       "      <th></th>\n",
       "      <th>text</th>\n",
       "      <th>source</th>\n",
       "      <th>page</th>\n",
       "      <th>chunk_id</th>\n",
       "    </tr>\n",
       "  </thead>\n",
       "  <tbody>\n",
       "    <tr>\n",
       "      <th>0</th>\n",
       "      <td>147\\n147Mental Health as a \\nPathway to Health...</td>\n",
       "      <td>data/MedicalDocuments/OrfPathHealth/MentalHeal...</td>\n",
       "      <td>0</td>\n",
       "      <td>83d4d0367bb0467e811782a4ada3bbb9</td>\n",
       "    </tr>\n",
       "    <tr>\n",
       "      <th>1</th>\n",
       "      <td>sense, mental health encompasses promotive and...</td>\n",
       "      <td>data/MedicalDocuments/OrfPathHealth/MentalHeal...</td>\n",
       "      <td>0</td>\n",
       "      <td>80ab9a7c29b44098961576ccd53fb7f6</td>\n",
       "    </tr>\n",
       "    <tr>\n",
       "      <th>2</th>\n",
       "      <td>148Accelerating Global Health: Pathways to Hea...</td>\n",
       "      <td>data/MedicalDocuments/OrfPathHealth/MentalHeal...</td>\n",
       "      <td>1</td>\n",
       "      <td>1d5cc8cbbb074190b824e1fbc0d644aa</td>\n",
       "    </tr>\n",
       "    <tr>\n",
       "      <th>3</th>\n",
       "      <td>adversity is a recognised risk factor in condi...</td>\n",
       "      <td>data/MedicalDocuments/OrfPathHealth/MentalHeal...</td>\n",
       "      <td>1</td>\n",
       "      <td>1f02a81a02054efaacb0ace0c5eadd14</td>\n",
       "    </tr>\n",
       "    <tr>\n",
       "      <th>4</th>\n",
       "      <td>both in healthcare service delivery.\\nThe chal...</td>\n",
       "      <td>data/MedicalDocuments/OrfPathHealth/MentalHeal...</td>\n",
       "      <td>1</td>\n",
       "      <td>33e4526e998e4865bd5b0dde036c2a20</td>\n",
       "    </tr>\n",
       "  </tbody>\n",
       "</table>\n",
       "</div>"
      ],
      "text/plain": [
       "                                                text  \\\n",
       "0  147\\n147Mental Health as a \\nPathway to Health...   \n",
       "1  sense, mental health encompasses promotive and...   \n",
       "2  148Accelerating Global Health: Pathways to Hea...   \n",
       "3  adversity is a recognised risk factor in condi...   \n",
       "4  both in healthcare service delivery.\\nThe chal...   \n",
       "\n",
       "                                              source  page  \\\n",
       "0  data/MedicalDocuments/OrfPathHealth/MentalHeal...     0   \n",
       "1  data/MedicalDocuments/OrfPathHealth/MentalHeal...     0   \n",
       "2  data/MedicalDocuments/OrfPathHealth/MentalHeal...     1   \n",
       "3  data/MedicalDocuments/OrfPathHealth/MentalHeal...     1   \n",
       "4  data/MedicalDocuments/OrfPathHealth/MentalHeal...     1   \n",
       "\n",
       "                           chunk_id  \n",
       "0  83d4d0367bb0467e811782a4ada3bbb9  \n",
       "1  80ab9a7c29b44098961576ccd53fb7f6  \n",
       "2  1d5cc8cbbb074190b824e1fbc0d644aa  \n",
       "3  1f02a81a02054efaacb0ace0c5eadd14  \n",
       "4  33e4526e998e4865bd5b0dde036c2a20  "
      ]
     },
     "execution_count": 25,
     "metadata": {},
     "output_type": "execute_result"
    }
   ],
   "source": [
    "dataframe_dir = 'OrfPathHealth'\n",
    "df = pd.read_csv(f\"./data_output/{dataframe_dir}/chunks.csv\", sep=\"|\")\n",
    "df_concepts = pd.read_csv(f\"./data_output/{dataframe_dir}/concepts.csv\", sep=\"|\")\n",
    "df.head()\n"
   ]
  },
  {
   "cell_type": "markdown",
   "metadata": {},
   "source": [
    "## Calculate Graphy Dataframe"
   ]
  },
  {
   "cell_type": "markdown",
   "metadata": {},
   "source": [
    "Graph dataframe is a dataframe where every row is a connection between two nodes. \n",
    "\n",
    "It is basically an inner self join of the nodes dataframe"
   ]
  },
  {
   "cell_type": "code",
   "execution_count": 26,
   "metadata": {},
   "outputs": [
    {
     "name": "stdout",
     "output_type": "stream",
     "text": [
      "Total number of nodes =  16370\n"
     ]
    }
   ],
   "source": [
    "dfne_join = pd.merge(df_concepts, df_concepts, how='inner', on='chunk_id', suffixes=('_L', '_R'))\n",
    "print(\"Total number of nodes = \", dfne_join.shape[0])"
   ]
  },
  {
   "cell_type": "markdown",
   "metadata": {},
   "source": [
    "#### Clean the graph dataframe"
   ]
  },
  {
   "cell_type": "markdown",
   "metadata": {},
   "source": [
    "Cleaning the graph to make it smaller for visualisation purpose\n",
    "\n",
    "- Calculate self loops\n",
    "- remove the less important nodes (for performance)"
   ]
  },
  {
   "cell_type": "code",
   "execution_count": 27,
   "metadata": {},
   "outputs": [
    {
     "name": "stdout",
     "output_type": "stream",
     "text": [
      "Self Loops 1536\n",
      "less important edges 13577\n",
      "Total Removable Edges =  13748\n",
      "Final Number of Edges  =  2622\n"
     ]
    },
    {
     "data": {
      "text/html": [
       "<div>\n",
       "<style scoped>\n",
       "    .dataframe tbody tr th:only-of-type {\n",
       "        vertical-align: middle;\n",
       "    }\n",
       "\n",
       "    .dataframe tbody tr th {\n",
       "        vertical-align: top;\n",
       "    }\n",
       "\n",
       "    .dataframe thead th {\n",
       "        text-align: right;\n",
       "    }\n",
       "</style>\n",
       "<table border=\"1\" class=\"dataframe\">\n",
       "  <thead>\n",
       "    <tr style=\"text-align: right;\">\n",
       "      <th></th>\n",
       "      <th>index</th>\n",
       "      <th>entity_L</th>\n",
       "      <th>importance_L</th>\n",
       "      <th>category_L</th>\n",
       "      <th>chunk_id</th>\n",
       "      <th>type_L</th>\n",
       "      <th>entity_R</th>\n",
       "      <th>importance_R</th>\n",
       "      <th>category_R</th>\n",
       "      <th>type_R</th>\n",
       "      <th>weight</th>\n",
       "    </tr>\n",
       "  </thead>\n",
       "  <tbody>\n",
       "    <tr>\n",
       "      <th>0</th>\n",
       "      <td>1</td>\n",
       "      <td>Mental Health</td>\n",
       "      <td>5</td>\n",
       "      <td>concept</td>\n",
       "      <td>83d4d0367bb0467e811782a4ada3bbb9</td>\n",
       "      <td>concept</td>\n",
       "      <td>Health Equity</td>\n",
       "      <td>4</td>\n",
       "      <td>concept</td>\n",
       "      <td>concept</td>\n",
       "      <td>4.5</td>\n",
       "    </tr>\n",
       "    <tr>\n",
       "      <th>1</th>\n",
       "      <td>2</td>\n",
       "      <td>Mental Health</td>\n",
       "      <td>5</td>\n",
       "      <td>concept</td>\n",
       "      <td>83d4d0367bb0467e811782a4ada3bbb9</td>\n",
       "      <td>concept</td>\n",
       "      <td>World Health Organization (WHO)</td>\n",
       "      <td>3</td>\n",
       "      <td>organisation</td>\n",
       "      <td>concept</td>\n",
       "      <td>4.0</td>\n",
       "    </tr>\n",
       "    <tr>\n",
       "      <th>2</th>\n",
       "      <td>3</td>\n",
       "      <td>Mental Health</td>\n",
       "      <td>5</td>\n",
       "      <td>concept</td>\n",
       "      <td>83d4d0367bb0467e811782a4ada3bbb9</td>\n",
       "      <td>concept</td>\n",
       "      <td>United Nations (UN)</td>\n",
       "      <td>3</td>\n",
       "      <td>organisation</td>\n",
       "      <td>concept</td>\n",
       "      <td>4.0</td>\n",
       "    </tr>\n",
       "    <tr>\n",
       "      <th>3</th>\n",
       "      <td>4</td>\n",
       "      <td>Mental Health</td>\n",
       "      <td>5</td>\n",
       "      <td>concept</td>\n",
       "      <td>83d4d0367bb0467e811782a4ada3bbb9</td>\n",
       "      <td>concept</td>\n",
       "      <td>Sustainable Development Goals (SDGs)</td>\n",
       "      <td>4</td>\n",
       "      <td>document</td>\n",
       "      <td>concept</td>\n",
       "      <td>4.5</td>\n",
       "    </tr>\n",
       "    <tr>\n",
       "      <th>4</th>\n",
       "      <td>5</td>\n",
       "      <td>Health Equity</td>\n",
       "      <td>4</td>\n",
       "      <td>concept</td>\n",
       "      <td>83d4d0367bb0467e811782a4ada3bbb9</td>\n",
       "      <td>concept</td>\n",
       "      <td>Mental Health</td>\n",
       "      <td>5</td>\n",
       "      <td>concept</td>\n",
       "      <td>concept</td>\n",
       "      <td>4.5</td>\n",
       "    </tr>\n",
       "  </tbody>\n",
       "</table>\n",
       "</div>"
      ],
      "text/plain": [
       "   index       entity_L  importance_L category_L  \\\n",
       "0      1  Mental Health             5    concept   \n",
       "1      2  Mental Health             5    concept   \n",
       "2      3  Mental Health             5    concept   \n",
       "3      4  Mental Health             5    concept   \n",
       "4      5  Health Equity             4    concept   \n",
       "\n",
       "                           chunk_id   type_L  \\\n",
       "0  83d4d0367bb0467e811782a4ada3bbb9  concept   \n",
       "1  83d4d0367bb0467e811782a4ada3bbb9  concept   \n",
       "2  83d4d0367bb0467e811782a4ada3bbb9  concept   \n",
       "3  83d4d0367bb0467e811782a4ada3bbb9  concept   \n",
       "4  83d4d0367bb0467e811782a4ada3bbb9  concept   \n",
       "\n",
       "                               entity_R  importance_R    category_R   type_R  \\\n",
       "0                         Health Equity             4       concept  concept   \n",
       "1       World Health Organization (WHO)             3  organisation  concept   \n",
       "2                   United Nations (UN)             3  organisation  concept   \n",
       "3  Sustainable Development Goals (SDGs)             4      document  concept   \n",
       "4                         Mental Health             5       concept  concept   \n",
       "\n",
       "   weight  \n",
       "0     4.5  \n",
       "1     4.0  \n",
       "2     4.0  \n",
       "3     4.5  \n",
       "4     4.5  "
      ]
     },
     "execution_count": 27,
     "metadata": {},
     "output_type": "execute_result"
    }
   ],
   "source": [
    "df_join_selfloops = dfne_join[dfne_join['entity_L'] == dfne_join['entity_R']]\n",
    "df_low_importance = dfne_join[(dfne_join['importance_L']< 5) & (dfne_join['importance_R'] < 5)]\n",
    "drops = df_join_selfloops.index.union(df_low_importance.index)\n",
    "print(\"Self Loops\", df_join_selfloops.index.shape[0])\n",
    "print(\"less important edges\", df_low_importance.index.shape[0])\n",
    "print(\"Total Removable Edges = \", drops.shape[0])\n",
    "\n",
    "## Remove these rows from the graph dataframe\n",
    "df_graph = dfne_join.drop(index=drops).reset_index()\n",
    "df_graph['weight'] = df_graph.apply(lambda x: (x.importance_L + x.importance_R)/2, axis=1)\n",
    "print(\"Final Number of Edges  = \", df_graph.shape[0])\n",
    "df_graph.head()"
   ]
  },
  {
   "cell_type": "markdown",
   "metadata": {},
   "source": []
  },
  {
   "cell_type": "markdown",
   "metadata": {},
   "source": [
    "## Creating a NetworkX Graph"
   ]
  },
  {
   "cell_type": "markdown",
   "metadata": {},
   "source": [
    "Calculate nodes\n",
    "\n",
    "Here I am grouping the graph dataframe by left node and calculating the mean importance. This way we will end up with only the unique nodes from the graph dataframe along with their weights. "
   ]
  },
  {
   "cell_type": "code",
   "execution_count": 36,
   "metadata": {},
   "outputs": [
    {
     "data": {
      "text/html": [
       "<div>\n",
       "<style scoped>\n",
       "    .dataframe tbody tr th:only-of-type {\n",
       "        vertical-align: middle;\n",
       "    }\n",
       "\n",
       "    .dataframe tbody tr th {\n",
       "        vertical-align: top;\n",
       "    }\n",
       "\n",
       "    .dataframe thead th {\n",
       "        text-align: right;\n",
       "    }\n",
       "</style>\n",
       "<table border=\"1\" class=\"dataframe\">\n",
       "  <thead>\n",
       "    <tr style=\"text-align: right;\">\n",
       "      <th></th>\n",
       "      <th>entity_L</th>\n",
       "      <th>importance_L</th>\n",
       "    </tr>\n",
       "  </thead>\n",
       "  <tbody>\n",
       "    <tr>\n",
       "      <th>0</th>\n",
       "      <td>Member states</td>\n",
       "      <td>4.0</td>\n",
       "    </tr>\n",
       "    <tr>\n",
       "      <th>1</th>\n",
       "      <td>10 million deaths</td>\n",
       "      <td>3.0</td>\n",
       "    </tr>\n",
       "    <tr>\n",
       "      <th>2</th>\n",
       "      <td>100 Days Mission</td>\n",
       "      <td>3.0</td>\n",
       "    </tr>\n",
       "    <tr>\n",
       "      <th>3</th>\n",
       "      <td>150,000 Health and Wellness Centres (HWC)</td>\n",
       "      <td>3.0</td>\n",
       "    </tr>\n",
       "    <tr>\n",
       "      <th>4</th>\n",
       "      <td>191 countries</td>\n",
       "      <td>2.0</td>\n",
       "    </tr>\n",
       "  </tbody>\n",
       "</table>\n",
       "</div>"
      ],
      "text/plain": [
       "                                    entity_L  importance_L\n",
       "0                              Member states           4.0\n",
       "1                          10 million deaths           3.0\n",
       "2                           100 Days Mission           3.0\n",
       "3  150,000 Health and Wellness Centres (HWC)           3.0\n",
       "4                              191 countries           2.0"
      ]
     },
     "execution_count": 36,
     "metadata": {},
     "output_type": "execute_result"
    }
   ],
   "source": [
    "# nodes = df_graph[\"entity_L\"].unique()\n",
    "nodes = df_graph.groupby(['entity_L']).agg({'importance_L': 'mean'}).reset_index()\n",
    "nodes.head()"
   ]
  },
  {
   "cell_type": "markdown",
   "metadata": {},
   "source": [
    "Build a NetworkX object with nodes and edges"
   ]
  },
  {
   "cell_type": "code",
   "execution_count": 37,
   "metadata": {},
   "outputs": [],
   "source": [
    "G = nx.Graph()\n",
    "for index, row in nodes.iterrows():\n",
    "    G.add_node(row['entity_L'])\n",
    "    \n",
    "for index, row in df_graph.iterrows():\n",
    "    G.add_weighted_edges_from(\n",
    "        [(str(row[\"entity_L\"]), str(row[\"entity_R\"]), row[\"weight\"])]\n",
    "    )"
   ]
  },
  {
   "cell_type": "markdown",
   "metadata": {},
   "source": [
    "### Community Detection"
   ]
  },
  {
   "cell_type": "markdown",
   "metadata": {},
   "source": [
    "Detect communities using the Girvan Newman algorithm "
   ]
  },
  {
   "cell_type": "code",
   "execution_count": 38,
   "metadata": {},
   "outputs": [],
   "source": [
    "communities_generator = nx.community.girvan_newman(G)\n",
    "top_level_communities = next(communities_generator)\n",
    "next_level_communities = next(communities_generator)\n",
    "communities = sorted(map(sorted, next_level_communities))\n",
    "\n"
   ]
  },
  {
   "cell_type": "markdown",
   "metadata": {},
   "source": [
    "Add colors to nodes based on community"
   ]
  },
  {
   "cell_type": "code",
   "execution_count": 74,
   "metadata": {},
   "outputs": [
    {
     "data": {
      "text/html": [
       "<div>\n",
       "<style scoped>\n",
       "    .dataframe tbody tr th:only-of-type {\n",
       "        vertical-align: middle;\n",
       "    }\n",
       "\n",
       "    .dataframe tbody tr th {\n",
       "        vertical-align: top;\n",
       "    }\n",
       "\n",
       "    .dataframe thead th {\n",
       "        text-align: right;\n",
       "    }\n",
       "</style>\n",
       "<table border=\"1\" class=\"dataframe\">\n",
       "  <thead>\n",
       "    <tr style=\"text-align: right;\">\n",
       "      <th></th>\n",
       "      <th>entity_L</th>\n",
       "      <th>importance_L</th>\n",
       "      <th>color</th>\n",
       "    </tr>\n",
       "  </thead>\n",
       "  <tbody>\n",
       "    <tr>\n",
       "      <th>0</th>\n",
       "      <td>Member states</td>\n",
       "      <td>4.0</td>\n",
       "      <td>#db5769</td>\n",
       "    </tr>\n",
       "    <tr>\n",
       "      <th>1</th>\n",
       "      <td>10 million deaths</td>\n",
       "      <td>3.0</td>\n",
       "      <td>#db5784</td>\n",
       "    </tr>\n",
       "    <tr>\n",
       "      <th>2</th>\n",
       "      <td>100 Days Mission</td>\n",
       "      <td>3.0</td>\n",
       "      <td>#db5784</td>\n",
       "    </tr>\n",
       "    <tr>\n",
       "      <th>3</th>\n",
       "      <td>150,000 Health and Wellness Centres (HWC)</td>\n",
       "      <td>3.0</td>\n",
       "      <td>#db5784</td>\n",
       "    </tr>\n",
       "    <tr>\n",
       "      <th>4</th>\n",
       "      <td>191 countries</td>\n",
       "      <td>2.0</td>\n",
       "      <td>#db579e</td>\n",
       "    </tr>\n",
       "  </tbody>\n",
       "</table>\n",
       "</div>"
      ],
      "text/plain": [
       "                                    entity_L  importance_L    color\n",
       "0                              Member states           4.0  #db5769\n",
       "1                          10 million deaths           3.0  #db5784\n",
       "2                           100 Days Mission           3.0  #db5784\n",
       "3  150,000 Health and Wellness Centres (HWC)           3.0  #db5784\n",
       "4                              191 countries           2.0  #db579e"
      ]
     },
     "execution_count": 74,
     "metadata": {},
     "output_type": "execute_result"
    }
   ],
   "source": [
    "\n",
    "## Now add these colors to communities and make another dataframe\n",
    "def colors2Community(communities) -> pd.DataFrame:\n",
    "    ## Define a color palette\n",
    "    p = sns.color_palette(\"hls\", len(communities)).as_hex()\n",
    "    rows = []\n",
    "    for community in communities:\n",
    "        color = p.pop()\n",
    "        for node in community:\n",
    "            rows += [{'entity_L': node, 'color':color}]\n",
    "    df_colors = pd.DataFrame(rows)\n",
    "    return df_colors\n",
    "\n",
    "colors = colors2Community(communities)\n",
    "\n",
    "df_nodes_colors = pd.merge(nodes, colors, how='left', on='entity_L', suffixes=('_N', '_C'))\n",
    "# nodes.head()\n",
    "df_nodes_colors.head()"
   ]
  },
  {
   "cell_type": "markdown",
   "metadata": {},
   "source": [
    "So now we have a nodes dataframe with colors and sizes of each node. \n",
    "\n",
    "lets recreate our graph."
   ]
  },
  {
   "cell_type": "code",
   "execution_count": 75,
   "metadata": {},
   "outputs": [],
   "source": [
    "G = nx.Graph()\n",
    "for index, row in df_nodes_colors.iterrows():\n",
    "    G.add_node(row['entity_L'], size=row['importance_L']*8, title=row['entity_L'], color=row['color'])\n",
    "    \n",
    "for index, row in df_graph.iterrows():\n",
    "    G.add_weighted_edges_from(\n",
    "        [(str(row[\"entity_L\"]), str(row[\"entity_R\"]), row[\"weight\"])]\n",
    "    )"
   ]
  },
  {
   "cell_type": "markdown",
   "metadata": {},
   "source": [
    "## Visualisation"
   ]
  },
  {
   "cell_type": "code",
   "execution_count": 76,
   "metadata": {},
   "outputs": [
    {
     "name": "stdout",
     "output_type": "stream",
     "text": [
      "./graph/nodes.html\n"
     ]
    }
   ],
   "source": [
    "graph_output_directory = './graph/nodes.html'\n",
    "\n",
    "net = Network(\n",
    "    notebook=False,\n",
    "    cdn_resources=\"remote\",\n",
    "    bgcolor=\"#111212\",\n",
    "    height=\"900px\",\n",
    "    width=\"100%\",\n",
    "    select_menu=True,\n",
    "    font_color='#dbdbdb',\n",
    "    # filter_menu=True,\n",
    ")\n",
    "net.from_nx(G)\n",
    "net.repulsion(node_distance=150, spring_length=400)\n",
    "# net.barnes_hut(gravity=-18100, central_gravity=5.05, spring_length=380)\n",
    "net.show_buttons(filter_='physics')\n",
    "net.show(graph_output_directory, notebook=False)\n"
   ]
  }
 ],
 "metadata": {
  "kernelspec": {
   "display_name": "OpenAI@3111",
   "language": "python",
   "name": "python3"
  },
  "language_info": {
   "codemirror_mode": {
    "name": "ipython",
    "version": 3
   },
   "file_extension": ".py",
   "mimetype": "text/x-python",
   "name": "python",
   "nbconvert_exporter": "python",
   "pygments_lexer": "ipython3",
   "version": "3.11.1"
  }
 },
 "nbformat": 4,
 "nbformat_minor": 2
}
