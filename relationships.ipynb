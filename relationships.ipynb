{
 "cells": [
  {
   "cell_type": "markdown",
   "metadata": {},
   "source": [
    "# Extract relationshipts between concepts\n",
    "Currently not using this"
   ]
  },
  {
   "cell_type": "code",
   "execution_count": 2,
   "metadata": {},
   "outputs": [
    {
     "data": {
      "text/plain": [
       "[{'name': 'mistral:instruct',\n",
       "  'modified_at': '2023-10-14T11:39:58.684144971+05:30',\n",
       "  'size': 4108916688,\n",
       "  'digest': '8aa307f73b2622af521e8f22d46e4b777123c4df91898dcb2e4079dc8fdf579e'},\n",
       " {'name': 'mistral-openorca:latest',\n",
       "  'modified_at': '2023-10-14T14:27:09.318837452+05:30',\n",
       "  'size': 4108928254,\n",
       "  'digest': '12dc6acc14d0c4d3309e035cac6ff83e64c023aa774b21c41e342982699f436c'}]"
      ]
     },
     "execution_count": 2,
     "metadata": {},
     "output_type": "execute_result"
    }
   ],
   "source": [
    "import ollama.client as client\n",
    "client.list()"
   ]
  },
  {
   "cell_type": "code",
   "execution_count": 87,
   "metadata": {},
   "outputs": [
    {
     "data": {
      "text/plain": [
       "'{{- if .System }}\\n<|im_start|>system {{ .System }}<|im_end|>\\n{{- end }}\\n<|im_start|>user\\n{{ .Prompt }}<|im_end|>\\n<|im_start|>assistant\\n'"
      ]
     },
     "execution_count": 87,
     "metadata": {},
     "output_type": "execute_result"
    }
   ],
   "source": [
    "mistral_instruct = 'mistral:instruct'\n",
    "mistral_openorca = 'mistral-openorca:latest'\n",
    "mcard = client.show(mistral_openorca)\n",
    "mcard['template']"
   ]
  },
  {
   "cell_type": "code",
   "execution_count": 86,
   "metadata": {},
   "outputs": [
    {
     "name": "stdout",
     "output_type": "stream",
     "text": [
      " {\n",
      "    \"Entity 1\": Cryosurgery,\n",
      "    \"Entity 2\": non-narcotic pain,\n",
      "    \"Relationship\": Cryosurgery uses liquid nitrogen to freeze and kill cancer cells, which is a part of the minimally invasive surgical techniques. Non-narcotic pain is one of the methods used in post-surgical care for pain management as per ASURE protocols.\n",
      "    \"Related\": 'Yes'\n",
      "}"
     ]
    }
   ],
   "source": [
    "system_prompt = \"\"\"\n",
    "Your task is to find find a relationships between the entities given as a python list.\\n\n",
    "You can use the provided context (delimited between ```) and no other prior knowledge. \\n\n",
    "Follow this chain of thought\n",
    "Thought 1: What are the two entities as per the context. \n",
    "Thought 2: What is the relationship between the given entities as per the given context?. \n",
    "Thought 3: Is this a direct relationship as per the context.\n",
    "Format your response as JSON with the following structure:\\n\n",
    "{ \n",
    "    \"Entity 1\": First Entity,\n",
    "    \"Entity 2\": Second Entity,\n",
    "    \"Relationship\": Explain the Relationship,\n",
    "    \"Related\": 'Yes' only if a direct relation can be infered, otherwise 'No'\n",
    "}\n",
    "\"\"\"\n",
    "prompt = \"\"\"\n",
    "Entites: ['Cryosurgery', 'non-narcotic pain'].\n",
    "\n",
    "Context:  ``` \n",
    "The two primary types of cancer surgery are open surgery and minimally invasive surgery.\n",
    "\n",
    "In open surgery, the surgical oncologist makes a large incision, usually to remove all or part of a tumor and some of the surrounding healthy tissue (margins).\n",
    "\n",
    "Minimally invasive surgical techniques may involve the techniques listed below.\n",
    "\n",
    "Laparoscopy: A surgical oncologist makes a few small incisions and inserts a laparoscope —a thin tube with a tiny camera attached to it—into one of the incisions to capture an interior image, while inserting surgical tools into the other incisions to excise malignancies and surrounding tissue.\n",
    "\n",
    "Laser surgery: The surgeon uses a narrow beam of high-intensity light to remove a tumor.\n",
    "\n",
    "Cryosurgery: The surgeon uses liquid nitrogen to freeze and kill cancer cells.\n",
    "\n",
    "Robotic surgery: This surgery is similar to a laparoscopic surgery. However, instead of manipulating surgical tools by hand, the surgeon uses a computer console to operate the robotic tools.\n",
    "\n",
    "Other procedures, such as endoscopies, embolization, Mohs micrographic surgery and pleuroscopies, may be performed by non-surgeons, including dermatologists, radiation oncologists and interventional pulmonologists, depending on the procedure.\n",
    "\n",
    "Non-surgical treatments may take place before surgery (neoadjuvant therapy) or after surgery (adjuvant therapy) to help prevent cancer growth, metastasis or recurrence. The treatments may include chemotherapy, radiation therapy or hormone therapy.\n",
    "\n",
    "The Advanced Surgical Recovery Program (ASURE) at City of Hope is designed to help patients recover from surgery more quickly and with fewer complications. ASURE is intended to improve surgical outcomes and enhance the patient experience before, during and after surgery, while also reducing the length of a patient’s hospital stay.\n",
    "\n",
    "The program is delivered by City of Hope multidisciplinary teams, which include surgeons, anesthesiologists, nutritionists, behavioral health therapists, nurses and other clinicians. They work collaboratively to implement evidenced-informed protocols, all under one roof. ASURE combines post-surgical rehabilitation with pre-habilitation, by preparing patients before surgery.\n",
    "\n",
    "Typically, ASURE protocols involve nutrition, pain management with non-narcotic pain relievers and physical activity within 24 hours after surgery. The use of enhanced recovery methods like those used in ASURE has been shown to reduce fatigue, post-surgery complications and the amount of narcotics used in post-surgical care, while helping patients resume their everyday activities more quickly.\n",
    "```\n",
    "\"\"\"\n",
    "\n",
    "combined_prompt = system_prompt + \"\\n\" + prompt\n",
    "response, context = client.generate(\n",
    "    model_name=mistral_openorca, prompt=prompt, system=system_prompt\n",
    ")"
   ]
  }
 ],
 "metadata": {
  "kernelspec": {
   "display_name": "OpenAI@3111",
   "language": "python",
   "name": "python3"
  },
  "language_info": {
   "codemirror_mode": {
    "name": "ipython",
    "version": 3
   },
   "file_extension": ".py",
   "mimetype": "text/x-python",
   "name": "python",
   "nbconvert_exporter": "python",
   "pygments_lexer": "ipython3",
   "version": "3.11.1"
  },
  "orig_nbformat": 4
 },
 "nbformat": 4,
 "nbformat_minor": 2
}
